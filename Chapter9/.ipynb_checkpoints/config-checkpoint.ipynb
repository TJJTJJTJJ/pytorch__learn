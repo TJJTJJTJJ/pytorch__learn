{
 "cells": [
  {
   "cell_type": "code",
   "execution_count": 1,
   "metadata": {},
   "outputs": [],
   "source": [
    "import warnings"
   ]
  },
  {
   "cell_type": "code",
   "execution_count": 2,
   "metadata": {},
   "outputs": [],
   "source": [
    "class Config(object):\n",
    "    # data.py\n",
    "    # get_data():\n",
    "    pickle_path = 'tangtest.npz' # 'tang.npz' # 预处理好的二进制文件\n",
    "    # ----_parseRawData()\n",
    "    data_path = '/home/tjj/pytorchtest/chapter9/chinese-poetry/chinese-poetry/json/simplified/' # 诗歌的存放路径 /poetry/poet.song.0.json  \n",
    "    category = 'poet.tang'  # 诗歌类别，分为： 'poet.song'，'poet.tang'，None：None时为全学\n",
    "    constrains =  None # 在取诗歌时，只取长度为constrains的单句，这里的单句指的是按照，。！进行分割之后的单句。为None时为全可以。\n",
    "    constrain = None\n",
    "    author = None # 作者名字，为None时学习所有作者的诗歌，具体的作者名字可以在 authors.song.json 和 authors.tang.json 中查到，只能是单个作者\n",
    "    # ----pad_sequences()\n",
    "    maxlen = 125 # 使每个诗歌都截断或者补充成长度为125的诗歌\n",
    "    \n",
    "    # main.py\n",
    "    # train()\n",
    "    use_gpu = True\n",
    "    env = 'default' # visdom.env  None or 'test'\n",
    "    # step:data\n",
    "    batch_size = 128\n",
    "    num_workers = 1\n",
    "    # step: model\n",
    "    model_path = None\n",
    "    embedding_dim = 128\n",
    "    hidden_dim = 256\n",
    "    num_layers = 2\n",
    "    # step: train\n",
    "    epoch = 20\n",
    "    model_prefix = 'checkpoints/tang'  # 模型保存路径\n",
    "    # step： visualize and validate\n",
    "    print_freq = 20 # 每20次batch_size就可视化一次\n",
    "    debug_file = './tmp/debug' # \n",
    "    \n",
    "    # generate()  gen_acrostic()\n",
    "    max_gen_len = 200  # 生成诗歌最长长度\n",
    "    \n",
    "    # gen()\n",
    "    acrostic = False\n",
    "    def _parse(self, **kwargs):\n",
    "        # 记得测试一下fire，每次光是会用，但是具体是个啥情况还是很懵\n",
    "        # items():字典的items方法以列表的形式返回可遍历的（k,v）元组，或者说对于字典的遍历的三种情况，分别是dict.keys(),dict.values(),dict.items()s\n",
    "        # hasattr,getattr,setattr是针对类的属性和方法\n",
    "        # 回去在了解一下git@怎么不能用了\n",
    "        \"\"\"\n",
    "        @param: self\n",
    "        @param: kwargs\n",
    "        \"\"\"\n",
    "        for k,v in kwargs.items():\n",
    "            if not hasattr(self, k):\n",
    "                warnings.warn(\"don't have the attribute {k}\".format(k=k))\n",
    "            else:\n",
    "                setattr(self, k, v)\n",
    "        # 发现了一个更好的打印实例属性的方法，还不用担心会不会被覆盖之类的。\n",
    "        print(\"User Config\")\n",
    "        for k in dir(self):\n",
    "            if not k.startswith('_'):\n",
    "                print(k, getattr(self,k))\n",
    "    \n",
    "    "
   ]
  },
  {
   "cell_type": "code",
   "execution_count": 3,
   "metadata": {},
   "outputs": [],
   "source": [
    "opt = Config()"
   ]
  },
  {
   "cell_type": "code",
   "execution_count": null,
   "metadata": {},
   "outputs": [],
   "source": []
  }
 ],
 "metadata": {
  "kernelspec": {
   "display_name": "Python 3",
   "language": "python",
   "name": "python3"
  },
  "language_info": {
   "codemirror_mode": {
    "name": "ipython",
    "version": 3
   },
   "file_extension": ".py",
   "mimetype": "text/x-python",
   "name": "python",
   "nbconvert_exporter": "python",
   "pygments_lexer": "ipython3",
   "version": "3.6.5"
  }
 },
 "nbformat": 4,
 "nbformat_minor": 2
}
