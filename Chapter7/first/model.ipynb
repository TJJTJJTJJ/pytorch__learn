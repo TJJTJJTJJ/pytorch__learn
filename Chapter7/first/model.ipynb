{
 "cells": [
  {
   "cell_type": "code",
   "execution_count": 1,
   "metadata": {},
   "outputs": [],
   "source": [
    "from torch import nn\n",
    "\n",
    "from torch import autograd\n",
    "import torch"
   ]
  },
  {
   "cell_type": "markdown",
   "metadata": {},
   "source": [
    "###  定义生成器  init(),forward()"
   ]
  },
  {
   "cell_type": "code",
   "execution_count": 2,
   "metadata": {},
   "outputs": [],
   "source": [
    "class NetG(nn.Module):\n",
    "    \"\"\"\n",
    "    生成器定义\n",
    "    __init__()\n",
    "    forward()\n",
    "    \"\"\"\n",
    "    def __init__(self,opt):\n",
    "        super(NetG,self).__init__()\n",
    "        ngf = opt.ngf\n",
    "        self.main = nn.Sequential(\n",
    "            # 输入 1*nz*1*1维的噪声\n",
    "            nn.ConvTranspose2d(opt.nz,ngf*8,  4,1,0,bias=False),\n",
    "            nn.BatchNorm2d(ngf*8),\n",
    "            nn.ReLU(True),\n",
    "            # (ngf*8)*4*4\n",
    "            \n",
    "            nn.ConvTranspose2d(ngf*8, ngf*4, 4,2,1,bias=False),\n",
    "            nn.BatchNorm2d(ngf*4),\n",
    "            nn.ReLU(True),\n",
    "            # (ngf*4)*8*8\n",
    "            nn.ConvTranspose2d(ngf*4, ngf*2, 4,2,1,bias=False),\n",
    "            nn.BatchNorm2d(ngf*2),\n",
    "            nn.ReLU(True),\n",
    "            # (ngf*2)*16*16\n",
    "            nn.ConvTranspose2d(ngf*2, ngf*1, 4,2,1,bias=False),\n",
    "            nn.BatchNorm2d(ngf*1),\n",
    "            nn.ReLU(True),\n",
    "            # (ngf*1)*32*32\n",
    "            nn.ConvTranspose2d(ngf, 3, 5,3,1,bias=False),\n",
    "            nn.Tanh()\n",
    "            # 3*96*96  range(-1,1)\n",
    "        )\n",
    "    def forward(self,x):\n",
    "        return self.main(x)"
   ]
  },
  {
   "cell_type": "markdown",
   "metadata": {},
   "source": [
    "### 定义判别器"
   ]
  },
  {
   "cell_type": "code",
   "execution_count": 2,
   "metadata": {},
   "outputs": [],
   "source": [
    "class NetD(nn.Module):\n",
    "    \"\"\"\n",
    "    判别器\n",
    "    __init__()\n",
    "    forward()\n",
    "    \"\"\"\n",
    "    def __init__(self,opt):\n",
    "        super(NetD, self).__init__()\n",
    "        ndf = opt.ndf\n",
    "        self.main = nn.Sequential(\n",
    "            # 与生成器正好相反\n",
    "            # 3*96*96\n",
    "            nn.Conv2d(3, ndf, 5, 3, 1, bias=False),\n",
    "            nn.LeakyReLU(0.2, inplace=True),\n",
    "            # ndf*32*32\n",
    "            nn.Conv2d(ndf,ndf*2,4,2,1,bias=False),\n",
    "            nn.BatchNorm2d(ndf*2),\n",
    "            nn.LeakyReLU(0.2,inplace=True),\n",
    "            \n",
    "            nn.Conv2d(ndf*2,ndf*4,4,2,1,bias=False),\n",
    "            nn.BatchNorm2d(ndf*4),\n",
    "            nn.LeakyReLU(0.2,inplace=True),\n",
    "\n",
    "            nn.Conv2d(ndf*4,ndf*8,4,2,1,bias=False),\n",
    "            nn.BatchNorm2d(ndf*8),\n",
    "            nn.LeakyReLU(0.2,inplace=True),\n",
    "            \n",
    "            nn.Conv2d(ndf*8,1,4,1,0,bias=False),\n",
    "            # batch*1*1*1\n",
    "            nn.Sigmoid()\n",
    "            \n",
    "        )\n",
    "    def forward(self,x):\n",
    "        return self.main(x).view(-1) # batch\n",
    "        "
   ]
  },
  {
   "cell_type": "code",
   "execution_count": 31,
   "metadata": {},
   "outputs": [],
   "source": [
    "class Net1(nn.Module):\n",
    "    def __init__(self):\n",
    "        super(Net1,self).__init__()\n",
    "        self.main = nn.Sequential(\n",
    "            nn.Conv2d(3,3,3,1,1,bias=False)\n",
    "        \n",
    "        )\n",
    "    def forward(self,x):\n",
    "        return self.main(x)"
   ]
  },
  {
   "cell_type": "code",
   "execution_count": 32,
   "metadata": {},
   "outputs": [],
   "source": [
    "class Net2(nn.Module):\n",
    "    def __init__(self):\n",
    "        super(Net2,self).__init__()\n",
    "        self.main = nn.Sequential(\n",
    "            nn.Conv2d(3,1,3,1,0,bias=False)\n",
    "        \n",
    "        )\n",
    "    def forward(self,x):\n",
    "        return self.main(x).view(-1)"
   ]
  },
  {
   "cell_type": "code",
   "execution_count": 33,
   "metadata": {},
   "outputs": [],
   "source": [
    "net1,net2 = Net1(), Net2()"
   ]
  },
  {
   "cell_type": "code",
   "execution_count": 34,
   "metadata": {},
   "outputs": [],
   "source": [
    "from torch.autograd import Variable\n",
    "fix_noises = Variable(torch.randn(1,3, 3, 3))"
   ]
  },
  {
   "cell_type": "code",
   "execution_count": 44,
   "metadata": {},
   "outputs": [],
   "source": [
    "fix_1 = net1(fix_noises)"
   ]
  },
  {
   "cell_type": "code",
   "execution_count": 45,
   "metadata": {},
   "outputs": [],
   "source": [
    "fix_2 = net2(fix_noises)"
   ]
  },
  {
   "cell_type": "code",
   "execution_count": 46,
   "metadata": {},
   "outputs": [],
   "source": [
    "optimizer_2 = torch.optim.Adam(params=net2.parameters(), lr = 0.1)"
   ]
  },
  {
   "cell_type": "code",
   "execution_count": 47,
   "metadata": {},
   "outputs": [
    {
     "data": {
      "text/plain": [
       "OrderedDict([('main.0.weight', tensor([[[[ 0.1527, -0.0862, -0.1650],\n",
       "                        [-0.1514, -0.0155, -0.1031],\n",
       "                        [ 0.0388,  0.0482, -0.1310]],\n",
       "              \n",
       "                       [[-0.1674, -0.0658,  0.0700],\n",
       "                        [ 0.0371,  0.1182, -0.1781],\n",
       "                        [ 0.0589, -0.0365,  0.1535]],\n",
       "              \n",
       "                       [[ 0.1085,  0.0635,  0.0670],\n",
       "                        [ 0.1039, -0.0420,  0.1099],\n",
       "                        [ 0.1594,  0.1450, -0.0445]]],\n",
       "              \n",
       "              \n",
       "                      [[[-0.0472, -0.1280,  0.1149],\n",
       "                        [ 0.0770, -0.0885,  0.0864],\n",
       "                        [-0.1013,  0.1382, -0.0625]],\n",
       "              \n",
       "                       [[-0.0273, -0.0111, -0.0091],\n",
       "                        [-0.1510,  0.1394,  0.1157],\n",
       "                        [ 0.0128, -0.0388,  0.1641]],\n",
       "              \n",
       "                       [[ 0.0241,  0.1080,  0.1671],\n",
       "                        [-0.1758, -0.0804,  0.1652],\n",
       "                        [ 0.0989, -0.1744,  0.1365]]],\n",
       "              \n",
       "              \n",
       "                      [[[ 0.0493,  0.0125,  0.1896],\n",
       "                        [ 0.1184, -0.0050, -0.0624],\n",
       "                        [-0.1633,  0.0940, -0.0582]],\n",
       "              \n",
       "                       [[-0.0947,  0.1786, -0.0513],\n",
       "                        [-0.1904, -0.1677, -0.1635],\n",
       "                        [-0.0936, -0.1278,  0.1529]],\n",
       "              \n",
       "                       [[-0.1657, -0.1902, -0.0470],\n",
       "                        [-0.0201, -0.0773,  0.1125],\n",
       "                        [ 0.1179,  0.0514, -0.1085]]]]))])"
      ]
     },
     "execution_count": 47,
     "metadata": {},
     "output_type": "execute_result"
    }
   ],
   "source": [
    "net1.state_dict()"
   ]
  },
  {
   "cell_type": "code",
   "execution_count": 48,
   "metadata": {},
   "outputs": [
    {
     "data": {
      "text/plain": [
       "OrderedDict([('main.0.weight', tensor([[[[-0.0616,  0.0197, -0.1520],\n",
       "                        [-0.0072, -0.2792,  0.0404],\n",
       "                        [ 0.0581, -0.2292, -0.2194]],\n",
       "              \n",
       "                       [[ 0.0127, -0.0744,  0.0668],\n",
       "                        [ 0.0393,  0.2048, -0.0266],\n",
       "                        [-0.0504,  0.0173, -0.2773]],\n",
       "              \n",
       "                       [[ 0.1115,  0.0981,  0.0080],\n",
       "                        [-0.0389,  0.0490, -0.0617],\n",
       "                        [-0.1009,  0.0205, -0.0838]]]]))])"
      ]
     },
     "execution_count": 48,
     "metadata": {},
     "output_type": "execute_result"
    }
   ],
   "source": [
    "net2.state_dict()"
   ]
  },
  {
   "cell_type": "code",
   "execution_count": 49,
   "metadata": {},
   "outputs": [],
   "source": [
    "fix_2\n",
    "optimizer_2.zero_grad()"
   ]
  },
  {
   "cell_type": "code",
   "execution_count": 50,
   "metadata": {},
   "outputs": [],
   "source": [
    "fix_2.backward()"
   ]
  },
  {
   "cell_type": "code",
   "execution_count": 51,
   "metadata": {},
   "outputs": [],
   "source": [
    "optimizer_2.step()"
   ]
  },
  {
   "cell_type": "code",
   "execution_count": 52,
   "metadata": {},
   "outputs": [
    {
     "data": {
      "text/plain": [
       "OrderedDict([('main.0.weight', tensor([[[[ 0.1527, -0.0862, -0.1650],\n",
       "                        [-0.1514, -0.0155, -0.1031],\n",
       "                        [ 0.0388,  0.0482, -0.1310]],\n",
       "              \n",
       "                       [[-0.1674, -0.0658,  0.0700],\n",
       "                        [ 0.0371,  0.1182, -0.1781],\n",
       "                        [ 0.0589, -0.0365,  0.1535]],\n",
       "              \n",
       "                       [[ 0.1085,  0.0635,  0.0670],\n",
       "                        [ 0.1039, -0.0420,  0.1099],\n",
       "                        [ 0.1594,  0.1450, -0.0445]]],\n",
       "              \n",
       "              \n",
       "                      [[[-0.0472, -0.1280,  0.1149],\n",
       "                        [ 0.0770, -0.0885,  0.0864],\n",
       "                        [-0.1013,  0.1382, -0.0625]],\n",
       "              \n",
       "                       [[-0.0273, -0.0111, -0.0091],\n",
       "                        [-0.1510,  0.1394,  0.1157],\n",
       "                        [ 0.0128, -0.0388,  0.1641]],\n",
       "              \n",
       "                       [[ 0.0241,  0.1080,  0.1671],\n",
       "                        [-0.1758, -0.0804,  0.1652],\n",
       "                        [ 0.0989, -0.1744,  0.1365]]],\n",
       "              \n",
       "              \n",
       "                      [[[ 0.0493,  0.0125,  0.1896],\n",
       "                        [ 0.1184, -0.0050, -0.0624],\n",
       "                        [-0.1633,  0.0940, -0.0582]],\n",
       "              \n",
       "                       [[-0.0947,  0.1786, -0.0513],\n",
       "                        [-0.1904, -0.1677, -0.1635],\n",
       "                        [-0.0936, -0.1278,  0.1529]],\n",
       "              \n",
       "                       [[-0.1657, -0.1902, -0.0470],\n",
       "                        [-0.0201, -0.0773,  0.1125],\n",
       "                        [ 0.1179,  0.0514, -0.1085]]]]))])"
      ]
     },
     "execution_count": 52,
     "metadata": {},
     "output_type": "execute_result"
    }
   ],
   "source": [
    "net1.state_dict()"
   ]
  },
  {
   "cell_type": "code",
   "execution_count": 53,
   "metadata": {},
   "outputs": [
    {
     "data": {
      "text/plain": [
       "OrderedDict([('main.0.weight', tensor([[[[-0.1616, -0.0803, -0.2520],\n",
       "                        [ 0.0928, -0.3792, -0.0596],\n",
       "                        [ 0.1581, -0.3292, -0.3194]],\n",
       "              \n",
       "                       [[-0.0873, -0.1744,  0.1668],\n",
       "                        [-0.0607,  0.3048,  0.0734],\n",
       "                        [-0.1504,  0.1173, -0.3773]],\n",
       "              \n",
       "                       [[ 0.2115,  0.1981,  0.1080],\n",
       "                        [-0.1389,  0.1490, -0.1617],\n",
       "                        [-0.2009,  0.1205,  0.0162]]]]))])"
      ]
     },
     "execution_count": 53,
     "metadata": {},
     "output_type": "execute_result"
    }
   ],
   "source": [
    "net2.state_dict()"
   ]
  },
  {
   "cell_type": "code",
   "execution_count": null,
   "metadata": {},
   "outputs": [],
   "source": []
  }
 ],
 "metadata": {
  "kernelspec": {
   "display_name": "Python 3",
   "language": "python",
   "name": "python3"
  },
  "language_info": {
   "codemirror_mode": {
    "name": "ipython",
    "version": 3
   },
   "file_extension": ".py",
   "mimetype": "text/x-python",
   "name": "python",
   "nbconvert_exporter": "python",
   "pygments_lexer": "ipython3",
   "version": "3.6.5"
  }
 },
 "nbformat": 4,
 "nbformat_minor": 2
}
