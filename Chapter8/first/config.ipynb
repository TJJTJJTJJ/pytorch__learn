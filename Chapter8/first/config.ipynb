{
 "cells": [
  {
   "cell_type": "code",
   "execution_count": 1,
   "metadata": {},
   "outputs": [],
   "source": [
    "import warnings"
   ]
  },
  {
   "cell_type": "code",
   "execution_count": 2,
   "metadata": {},
   "outputs": [],
   "source": [
    "class DefaultConfig(object):\n",
    "#----main.py\n",
    "    # train()\n",
    "    # step1:config\n",
    "    env = 'default' # visdom 环境\n",
    "    use_gpu = True  # gpu\n",
    "    \n",
    "    # step2:data\n",
    "    data_root = 'data/' # 数据集存放路径：'data/coco/a.jpg'\n",
    "    image_size = 256\n",
    "    batch_size = 8\n",
    "    num_worker = 4      # 多线程加载数据\n",
    "    style_path = 'style.jpg' # 风格图片存放路径\n",
    "    # step3:model\n",
    "    \n",
    "    # step4:criterion and optimizer\n",
    "    lr = 1e-3\n",
    "    \n",
    "    # step5:train\n",
    "    epoches = 2  \n",
    "    # step5.2 loss\n",
    "    content_weight = 1e5 # content_loss的权重\n",
    "    style_weight = 1e10 # style_loss的权重\n",
    "    \n",
    "    # step5.3: visualize\n",
    "    print_freq = 10 # 每10个batch可视化一次\n",
    "    \n",
    "    # step5.4: save\n",
    "    save_every = 1 # 每个epoch保存一次\n",
    "    \n",
    "    # stylize()\n",
    "    content_path = 'input.png'  # 需要进行迁移的图片\n",
    "    model_path = None  # 预训练模型的路径\n",
    "    result_path = 'output.png'  # 图片迁移后的保存\n",
    "\n",
    "\n",
    "# 自己第一次写parse，忽略了self\n",
    "# hasattr用于判断一个对象是否有某个属性，一般常见于类的实例是否有个方法或者值，刚刚用字典测试，发现不适用字典。这一点要注意\n",
    "# hasattr和setattr分别是指XX.XX这种形式的\n",
    "# 这个warning模块有点绕，找了几个博客都没有看清楚怎么用，之后要看看基本的用法,或者直接用dir()产生的\n",
    "# 刚刚查了查怎么查询类或者实例的属性值，有一个还行https://www.cnblogs.com/scolia/p/5582268.html,实例的属性和类的属性的不是一个东西，而是通过一个类似指针的东西从实例指向类\n",
    "def parse(self,**kwargs):\n",
    "    for k,v in kwargs:\n",
    "        if not hasattr(self,k):\n",
    "            warnings.warn(\"Warning: opt has not attribute {k}\".format(k=k))\n",
    "        setattr(self,k,v)\n",
    "    print(\"user config\")\n",
    "    \n",
    "    # print的方式就表示我太low\n",
    "    # 先打印实例属性，再打印类属性\n",
    "    keys = []\n",
    "    for k,v in self.__dict__.items():\n",
    "        if (not k.startwith('__')) and (k not in keys):\n",
    "            keys.append(k)\n",
    "            print('{k}：{v}'.format(k=k,v=v))\n",
    "    for k,v in self.__class__.__dict__.items():\n",
    "        if (not k.startwith('__')) and (k not in keys):\n",
    "            keys.append(k)\n",
    "            print('{k}：{v}'.format(k=k,v=v))\n",
    "    \n",
    "    \n",
    "    \n"
   ]
  },
  {
   "cell_type": "code",
   "execution_count": 3,
   "metadata": {},
   "outputs": [],
   "source": [
    "DefaultConfig.parse = parse\n",
    "opt = DefaultConfig()"
   ]
  },
  {
   "cell_type": "code",
   "execution_count": null,
   "metadata": {},
   "outputs": [],
   "source": []
  }
 ],
 "metadata": {
  "kernelspec": {
   "display_name": "Python 3",
   "language": "python",
   "name": "python3"
  },
  "language_info": {
   "codemirror_mode": {
    "name": "ipython",
    "version": 3
   },
   "file_extension": ".py",
   "mimetype": "text/x-python",
   "name": "python",
   "nbconvert_exporter": "python",
   "pygments_lexer": "ipython3",
   "version": "3.6.5"
  }
 },
 "nbformat": 4,
 "nbformat_minor": 2
}
