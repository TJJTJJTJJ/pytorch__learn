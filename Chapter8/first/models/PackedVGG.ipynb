{
 "cells": [
  {
   "cell_type": "markdown",
   "metadata": {},
   "source": [
    "# Vgg16\n",
    "* 使用预训练好的网络VGG\n",
    "* 修改网络的前向传播过程，获取中间层的输出\n",
    "* 删除后面的不需要的层"
   ]
  },
  {
   "cell_type": "code",
   "execution_count": 11,
   "metadata": {},
   "outputs": [],
   "source": [
    "from torch import nn\n",
    "from torchvision.models import vgg16\n",
    "from collections import namedtuple"
   ]
  },
  {
   "cell_type": "code",
   "execution_count": 12,
   "metadata": {},
   "outputs": [],
   "source": [
    "class Vgg16(nn.Module):\n",
    "    # __init__\n",
    "    # forward()\n",
    "    # 这里取特征的方法还有研究\n",
    "    \"\"\"\n",
    "    @return: 这里的输出是一个具名元组\n",
    "    \"\"\"\n",
    "    def __init__(self):\n",
    "        super(Vgg16,self).__init__()\n",
    "        features = list(vgg16(pretrained=True).features)[:23]\n",
    "        self.features = nn.ModuleList(features).eval()\n",
    "        \n",
    "    \n",
    "    def forward(sefl,x):\n",
    "        # 输出两种损失 \n",
    "        # -content loss:relu3_3\n",
    "        # -style loss:relu1_2,relu2_2,relu3_3,relu3_4 分别对应的是{3,8,15,22}\n",
    "        # 输出 list:[relu1_2,relu2_2,relu3_3,relu3_4], 其中 relu1_2：b*c*h*w\n",
    "        results = []\n",
    "        for ii, model in enumerate(self.features):\n",
    "            x = model(x)\n",
    "            if ii in {3,8,15,22}:\n",
    "                results.append(x)\n",
    "        vgg_outputs = namedtuple('VggOutputs',['relu1_2','relu2_2','relu3_3','relu4_3'])\n",
    "        out = vgg_outputs(*results)\n",
    "        return out\n",
    "                "
   ]
  },
  {
   "cell_type": "code",
   "execution_count": null,
   "metadata": {},
   "outputs": [],
   "source": []
  }
 ],
 "metadata": {
  "kernelspec": {
   "display_name": "Python 3",
   "language": "python",
   "name": "python3"
  },
  "language_info": {
   "codemirror_mode": {
    "name": "ipython",
    "version": 3
   },
   "file_extension": ".py",
   "mimetype": "text/x-python",
   "name": "python",
   "nbconvert_exporter": "python",
   "pygments_lexer": "ipython3",
   "version": "3.6.5"
  }
 },
 "nbformat": 4,
 "nbformat_minor": 2
}
