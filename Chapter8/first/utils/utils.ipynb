{
 "cells": [
  {
   "cell_type": "code",
   "execution_count": 1,
   "metadata": {},
   "outputs": [],
   "source": [
    "import torchvision as tv\n",
    "import torchvision.transforms as T"
   ]
  },
  {
   "cell_type": "markdown",
   "metadata": {},
   "source": [
    "    # 加载图片可以使用第六章的方式\n",
    "    # data = Image.open(path), transform(data)\n",
    "    # 作者这次用了新的方式tv.datasets.folder.default_loader\n",
    "    # 官网没有找到，只能去看源码了\n",
    "    # 给出几个解释\n",
    "    # https://www.jianshu.com/p/db61875b73fb\n",
    "    # 虽然python里面自带一个PIL（python images library), 但这个库现在已经停止更新了，所以使用Pillow, 它是由PIL发展而来的。\n",
    "    # 看源码，发现源码是这么加载图片的，\n",
    "    # with open(path,'rb') as f: img = Image.open(f), return img.convert('RGB') 看起来要比咱们的高级一些，但也要给作者提提问题"
   ]
  },
  {
   "cell_type": "code",
   "execution_count": 2,
   "metadata": {},
   "outputs": [],
   "source": [
    "IMAGENET_MEAN = [0.485, 0.456, 0.406]\n",
    "IMAGENET_STD = [0.229, 0.224, 0.225]"
   ]
  },
  {
   "cell_type": "code",
   "execution_count": 3,
   "metadata": {},
   "outputs": [],
   "source": [
    "def get_style_data(path):\n",
    "    \"\"\"\n",
    "    获取单张风格图片，并将其转化为tensor\n",
    "    path：\n",
    "    vgg网络的输入是在Image上训练得到的，我们需要对其以同样的方式进行归一化\n",
    "    return： 1*c*H*W,分布-2~2 tensor\n",
    "    \"\"\"\n",
    "    \n",
    "    \n",
    "    style_image = tv.datasets.folder.default_loader(path) # 0-1\n",
    "    transforms = T.Compose([\n",
    "        T.ToTensor(),\n",
    "        T.Normalize(mean = IMAGENET_MEAN, std = IMAGENET_STD)\n",
    "    ])\n",
    "    style_tensor = transforms(style_image)\n",
    "    return style_tensor.unsqueeze(0) "
   ]
  },
  {
   "cell_type": "code",
   "execution_count": 7,
   "metadata": {},
   "outputs": [],
   "source": [
    "def normalize_batch(batch_data):\n",
    "    \"\"\"\n",
    "    data:0-255, b*3*h*w, cuda, Variable\n",
    "    return:-2~2,b*3*h*w, Variable\n",
    "    \"\"\"\n",
    "    # new 创建一个相同类型的数据，主要针对与cuda\n",
    "    mean = batch_data.data.new(IMAGENET_MEAN).view(1,-1,1,1)\n",
    "    std = batch_data.data.new(IMAGENET_STD).view(1,-1,1,1)\n",
    "    mean = mean.expand_as(batch_data.data)\n",
    "    std = std.expand_as(batch_data.data)\n",
    "    return (batch_data/255-mean)/std\n",
    "    \n",
    "    "
   ]
  },
  {
   "cell_type": "code",
   "execution_count": 16,
   "metadata": {},
   "outputs": [],
   "source": [
    "def gram_matrix(x):\n",
    "    \"\"\"\n",
    "    求y的gram矩阵\n",
    "    输入 b*c*h*w cuda, tensor\n",
    "    输出 b*c*c cuda tensor\n",
    "    \"\"\"\n",
    "    (b,c,h,w) = x.size()\n",
    "    features = y.view(b,c,h*w)\n",
    "    features_t = features.transpose(1,2)\n",
    "    # 我觉得这里应该除以 h*w就行，因为b*c*c中的每一个元素只代表了H×W个元素， 但是先按照作者的思路写\n",
    "    gram = features.bmm(features_t)/(c*h*w)\n",
    "    return gram\n",
    "    "
   ]
  },
  {
   "cell_type": "code",
   "execution_count": 8,
   "metadata": {},
   "outputs": [],
   "source": [
    "import torch "
   ]
  },
  {
   "cell_type": "code",
   "execution_count": 14,
   "metadata": {},
   "outputs": [],
   "source": [
    "a  = torch.Tensor(range(24))"
   ]
  },
  {
   "cell_type": "code",
   "execution_count": 15,
   "metadata": {},
   "outputs": [
    {
     "data": {
      "text/plain": [
       "tensor([[[  0.,   1.,   2.,   3.],\n",
       "         [  4.,   5.,   6.,   7.],\n",
       "         [  8.,   9.,  10.,  11.]],\n",
       "\n",
       "        [[ 12.,  13.,  14.,  15.],\n",
       "         [ 16.,  17.,  18.,  19.],\n",
       "         [ 20.,  21.,  22.,  23.]]])"
      ]
     },
     "execution_count": 15,
     "metadata": {},
     "output_type": "execute_result"
    }
   ],
   "source": [
    "a.view(2,3,4)"
   ]
  },
  {
   "cell_type": "code",
   "execution_count": null,
   "metadata": {},
   "outputs": [],
   "source": []
  }
 ],
 "metadata": {
  "kernelspec": {
   "display_name": "Python 3",
   "language": "python",
   "name": "python3"
  },
  "language_info": {
   "codemirror_mode": {
    "name": "ipython",
    "version": 3
   },
   "file_extension": ".py",
   "mimetype": "text/x-python",
   "name": "python",
   "nbconvert_exporter": "python",
   "pygments_lexer": "ipython3",
   "version": "3.6.5"
  }
 },
 "nbformat": 4,
 "nbformat_minor": 2
}
