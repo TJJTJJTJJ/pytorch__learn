{
 "cells": [
  {
   "cell_type": "code",
   "execution_count": 1,
   "metadata": {},
   "outputs": [],
   "source": [
    "from visdom import Visdom\n",
    "import time\n",
    "import numpy as np\n",
    "\n",
    "class Visualizer(object):\n",
    "    \"\"\"\n",
    "    封装visdom的基本操作\n",
    "    \"\"\"\n",
    "\n",
    "    def __init__(self, env='default', **kwargs):\n",
    "        self.vis = Visdom(env=env, **kwargs)\n",
    "        # 以文字和图的形式展示\n",
    "        # {'loss1':23,'loss2':24}\n",
    "        self.index = {}\n",
    "        self.log_text = ''\n",
    "    def reinit(self, env='default', **kwargs):\n",
    "        self.vis = Visdom(env=env, **kwargs)\n",
    "\n",
    "    def img(self, name ,img_,  **kwargs):\n",
    "        # img_: batchsize*channels*H*W 0-1 cuda tensor\n",
    "        self.vis.images(img_.cpu().numpy(),\n",
    "                        win=name,\n",
    "                        opts=dict(title=name),\n",
    "                        **kwargs\n",
    "                        )\n",
    "\n",
    "    def log(self, win='log_text', info='' ):\n",
    "        \"\"\"\n",
    "        self.log({'loss':1,'lr':0.0001})\n",
    "        :param info:\n",
    "        :param win:\n",
    "        :return:\n",
    "        \"\"\"\n",
    "        self.log_text +=(\n",
    "            '[{time}]{info}<br>'.format(\n",
    "                time = time.strftime('%m%d_%H:%M:%S'),\n",
    "                info = info\n",
    "                                        )\n",
    "        )\n",
    "        self.vis.text(self.log_text,win)\n",
    "\n",
    "    def plot(self, win, y,  **kwargs):\n",
    "        \"\"\"\n",
    "        plot('loss',2)\n",
    "        :param win:\n",
    "        :param y:\n",
    "        :param kwargs:\n",
    "        :return:\n",
    "        \"\"\"\n",
    "\n",
    "        x = self.index.get(win,0)\n",
    "        self.vis.line(\n",
    "            X=np.array([x]), Y=np.array([y]),\n",
    "            win = win,\n",
    "            opts= dict(title=win),\n",
    "            update = None if x ==0 else 'append',\n",
    "            **kwargs\n",
    "        )\n",
    "        self.index[win] = x+1\n",
    "\n",
    "\n",
    "    def img_many(self,d):\n",
    "        # d: {'1.jpg':b*c*H*W,'2.jpg':b*c*H*W}\n",
    "        for k,v in d.items():\n",
    "            self.img(k,v)\n",
    "\n",
    "    def plot_many(self,d):\n",
    "        # d:{'loss1':2,'loass2':4}\n",
    "        for k,v in d.items():\n",
    "            self.plot(k,v)\n",
    "\n",
    "    def __getattr__(self,name):\n",
    "        # self,function->self.vis.funtion\n",
    "        return getattr(self.vis, name)"
   ]
  },
  {
   "cell_type": "code",
   "execution_count": 8,
   "metadata": {},
   "outputs": [],
   "source": [
    "import torch "
   ]
  },
  {
   "cell_type": "code",
   "execution_count": 9,
   "metadata": {},
   "outputs": [],
   "source": [
    "a = torch.Tensor([1,2])"
   ]
  },
  {
   "cell_type": "code",
   "execution_count": 10,
   "metadata": {},
   "outputs": [
    {
     "data": {
      "text/plain": [
       "tensor([ 1.,  2.])"
      ]
     },
     "execution_count": 10,
     "metadata": {},
     "output_type": "execute_result"
    }
   ],
   "source": [
    "a\n"
   ]
  },
  {
   "cell_type": "code",
   "execution_count": 11,
   "metadata": {},
   "outputs": [
    {
     "data": {
      "text/plain": [
       "tensor([ 1.,  2.])"
      ]
     },
     "execution_count": 11,
     "metadata": {},
     "output_type": "execute_result"
    }
   ],
   "source": [
    "a.cpu()"
   ]
  },
  {
   "cell_type": "code",
   "execution_count": 12,
   "metadata": {},
   "outputs": [],
   "source": [
    "from visdom import Visdom"
   ]
  },
  {
   "cell_type": "code",
   "execution_count": 13,
   "metadata": {},
   "outputs": [],
   "source": [
    "Visdom.save??"
   ]
  },
  {
   "cell_type": "code",
   "execution_count": null,
   "metadata": {},
   "outputs": [],
   "source": []
  }
 ],
 "metadata": {
  "kernelspec": {
   "display_name": "Python 3",
   "language": "python",
   "name": "python3"
  },
  "language_info": {
   "codemirror_mode": {
    "name": "ipython",
    "version": 3
   },
   "file_extension": ".py",
   "mimetype": "text/x-python",
   "name": "python",
   "nbconvert_exporter": "python",
   "pygments_lexer": "ipython3",
   "version": "3.6.5"
  }
 },
 "nbformat": 4,
 "nbformat_minor": 2
}
